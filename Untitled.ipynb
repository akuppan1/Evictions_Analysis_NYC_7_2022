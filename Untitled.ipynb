{
 "cells": [
  {
   "cell_type": "code",
   "execution_count": 29,
   "metadata": {},
   "outputs": [],
   "source": [
    "import pandas as pd\n",
    "import matplotlib.pyplot as plt"
   ]
  },
  {
   "cell_type": "code",
   "execution_count": 2,
   "metadata": {},
   "outputs": [],
   "source": [
    "df = pd.read_csv('Evictions.csv')"
   ]
  },
  {
   "cell_type": "code",
   "execution_count": 4,
   "metadata": {},
   "outputs": [
    {
     "data": {
      "text/html": [
       "<div>\n",
       "<style scoped>\n",
       "    .dataframe tbody tr th:only-of-type {\n",
       "        vertical-align: middle;\n",
       "    }\n",
       "\n",
       "    .dataframe tbody tr th {\n",
       "        vertical-align: top;\n",
       "    }\n",
       "\n",
       "    .dataframe thead th {\n",
       "        text-align: right;\n",
       "    }\n",
       "</style>\n",
       "<table border=\"1\" class=\"dataframe\">\n",
       "  <thead>\n",
       "    <tr style=\"text-align: right;\">\n",
       "      <th></th>\n",
       "      <th>Court Index Number</th>\n",
       "      <th>Docket Number</th>\n",
       "      <th>Eviction Address</th>\n",
       "      <th>Eviction Apartment Number</th>\n",
       "      <th>Executed Date</th>\n",
       "      <th>Marshal First Name</th>\n",
       "      <th>Marshal Last Name</th>\n",
       "      <th>Residential/Commercial</th>\n",
       "      <th>BOROUGH</th>\n",
       "      <th>Eviction Postcode</th>\n",
       "      <th>Ejectment</th>\n",
       "      <th>Eviction/Legal Possession</th>\n",
       "      <th>Latitude</th>\n",
       "      <th>Longitude</th>\n",
       "      <th>Community Board</th>\n",
       "      <th>Council District</th>\n",
       "      <th>Census Tract</th>\n",
       "      <th>BIN</th>\n",
       "      <th>BBL</th>\n",
       "      <th>NTA</th>\n",
       "    </tr>\n",
       "  </thead>\n",
       "  <tbody>\n",
       "    <tr>\n",
       "      <th>0</th>\n",
       "      <td>55445/19</td>\n",
       "      <td>94816</td>\n",
       "      <td>640 WATKINS STREET</td>\n",
       "      <td>2ND FLOOR</td>\n",
       "      <td>6/12/2019</td>\n",
       "      <td>Justin</td>\n",
       "      <td>Grossman</td>\n",
       "      <td>Residential</td>\n",
       "      <td>BROOKLYN</td>\n",
       "      <td>11212</td>\n",
       "      <td>Not an Ejectment</td>\n",
       "      <td>Possession</td>\n",
       "      <td>40.656310</td>\n",
       "      <td>-73.904448</td>\n",
       "      <td>16.0</td>\n",
       "      <td>42.0</td>\n",
       "      <td>922.0</td>\n",
       "      <td>3346153.0</td>\n",
       "      <td>3.036380e+09</td>\n",
       "      <td>Brownsville</td>\n",
       "    </tr>\n",
       "    <tr>\n",
       "      <th>1</th>\n",
       "      <td>78203/16-2</td>\n",
       "      <td>201506</td>\n",
       "      <td>1365 ST NICHOLAS AVE</td>\n",
       "      <td>7R</td>\n",
       "      <td>4/18/2017</td>\n",
       "      <td>Richard</td>\n",
       "      <td>Capuano</td>\n",
       "      <td>Residential</td>\n",
       "      <td>MANHATTAN</td>\n",
       "      <td>10033</td>\n",
       "      <td>Not an Ejectment</td>\n",
       "      <td>Possession</td>\n",
       "      <td>40.847780</td>\n",
       "      <td>-73.934871</td>\n",
       "      <td>12.0</td>\n",
       "      <td>10.0</td>\n",
       "      <td>263.0</td>\n",
       "      <td>1079920.0</td>\n",
       "      <td>1.021620e+09</td>\n",
       "      <td>Washington Heights South</td>\n",
       "    </tr>\n",
       "    <tr>\n",
       "      <th>2</th>\n",
       "      <td>23951/19</td>\n",
       "      <td>360541</td>\n",
       "      <td>50 EAST 191ST STREET</td>\n",
       "      <td>3N</td>\n",
       "      <td>4/6/2022</td>\n",
       "      <td>Thomas</td>\n",
       "      <td>Bia</td>\n",
       "      <td>Residential</td>\n",
       "      <td>BRONX</td>\n",
       "      <td>10468</td>\n",
       "      <td>Not an Ejectment</td>\n",
       "      <td>Possession</td>\n",
       "      <td>40.863974</td>\n",
       "      <td>-73.898210</td>\n",
       "      <td>7.0</td>\n",
       "      <td>14.0</td>\n",
       "      <td>401.0</td>\n",
       "      <td>2013932.0</td>\n",
       "      <td>2.031750e+09</td>\n",
       "      <td>Bedford Park-Fordham North</td>\n",
       "    </tr>\n",
       "    <tr>\n",
       "      <th>3</th>\n",
       "      <td>Q077113/16</td>\n",
       "      <td>380770</td>\n",
       "      <td>125 BEACH 17TH ST</td>\n",
       "      <td>7F</td>\n",
       "      <td>6/23/2017</td>\n",
       "      <td>Richard</td>\n",
       "      <td>McCoy</td>\n",
       "      <td>Residential</td>\n",
       "      <td>QUEENS</td>\n",
       "      <td>11691</td>\n",
       "      <td>Not an Ejectment</td>\n",
       "      <td>Possession</td>\n",
       "      <td>40.594254</td>\n",
       "      <td>-73.751210</td>\n",
       "      <td>14.0</td>\n",
       "      <td>31.0</td>\n",
       "      <td>101001.0</td>\n",
       "      <td>4436178.0</td>\n",
       "      <td>4.156380e+09</td>\n",
       "      <td>Far Rockaway-Bayswater</td>\n",
       "    </tr>\n",
       "    <tr>\n",
       "      <th>4</th>\n",
       "      <td>21109/17</td>\n",
       "      <td>11628</td>\n",
       "      <td>4110 MONTICELLO AVENUE</td>\n",
       "      <td>NaN</td>\n",
       "      <td>8/18/2017</td>\n",
       "      <td>Edward</td>\n",
       "      <td>Guida</td>\n",
       "      <td>Residential</td>\n",
       "      <td>BRONX</td>\n",
       "      <td>10466</td>\n",
       "      <td>Not an Ejectment</td>\n",
       "      <td>Possession</td>\n",
       "      <td>40.894330</td>\n",
       "      <td>-73.839445</td>\n",
       "      <td>12.0</td>\n",
       "      <td>12.0</td>\n",
       "      <td>448.0</td>\n",
       "      <td>2069463.0</td>\n",
       "      <td>2.050280e+09</td>\n",
       "      <td>Woodlawn-Wakefield</td>\n",
       "    </tr>\n",
       "  </tbody>\n",
       "</table>\n",
       "</div>"
      ],
      "text/plain": [
       "  Court Index Number  Docket Number         Eviction Address  \\\n",
       "0           55445/19           94816      640 WATKINS STREET   \n",
       "1         78203/16-2          201506    1365 ST NICHOLAS AVE   \n",
       "2           23951/19          360541    50 EAST 191ST STREET   \n",
       "3         Q077113/16          380770       125 BEACH 17TH ST   \n",
       "4           21109/17           11628  4110 MONTICELLO AVENUE   \n",
       "\n",
       "  Eviction Apartment Number Executed Date Marshal First Name  \\\n",
       "0                 2ND FLOOR     6/12/2019             Justin   \n",
       "1                        7R     4/18/2017            Richard   \n",
       "2                        3N      4/6/2022             Thomas   \n",
       "3                        7F     6/23/2017            Richard   \n",
       "4                       NaN     8/18/2017             Edward   \n",
       "\n",
       "  Marshal Last Name Residential/Commercial    BOROUGH  Eviction Postcode  \\\n",
       "0          Grossman            Residential   BROOKLYN              11212   \n",
       "1           Capuano            Residential  MANHATTAN              10033   \n",
       "2               Bia            Residential      BRONX              10468   \n",
       "3             McCoy            Residential     QUEENS              11691   \n",
       "4             Guida            Residential      BRONX              10466   \n",
       "\n",
       "          Ejectment Eviction/Legal Possession   Latitude  Longitude  \\\n",
       "0  Not an Ejectment                Possession  40.656310 -73.904448   \n",
       "1  Not an Ejectment                Possession  40.847780 -73.934871   \n",
       "2  Not an Ejectment                Possession  40.863974 -73.898210   \n",
       "3  Not an Ejectment                Possession  40.594254 -73.751210   \n",
       "4  Not an Ejectment                Possession  40.894330 -73.839445   \n",
       "\n",
       "   Community Board  Council District  Census Tract        BIN           BBL  \\\n",
       "0             16.0              42.0         922.0  3346153.0  3.036380e+09   \n",
       "1             12.0              10.0         263.0  1079920.0  1.021620e+09   \n",
       "2              7.0              14.0         401.0  2013932.0  2.031750e+09   \n",
       "3             14.0              31.0      101001.0  4436178.0  4.156380e+09   \n",
       "4             12.0              12.0         448.0  2069463.0  2.050280e+09   \n",
       "\n",
       "                          NTA  \n",
       "0                 Brownsville  \n",
       "1    Washington Heights South  \n",
       "2  Bedford Park-Fordham North  \n",
       "3      Far Rockaway-Bayswater  \n",
       "4          Woodlawn-Wakefield  "
      ]
     },
     "execution_count": 4,
     "metadata": {},
     "output_type": "execute_result"
    }
   ],
   "source": [
    "df.head()"
   ]
  },
  {
   "cell_type": "code",
   "execution_count": 5,
   "metadata": {},
   "outputs": [
    {
     "name": "stdout",
     "output_type": "stream",
     "text": [
      "<class 'pandas.core.frame.DataFrame'>\n",
      "RangeIndex: 68581 entries, 0 to 68580\n",
      "Data columns (total 20 columns):\n",
      " #   Column                     Non-Null Count  Dtype  \n",
      "---  ------                     --------------  -----  \n",
      " 0   Court Index Number         68581 non-null  object \n",
      " 1   Docket Number              68581 non-null  int64  \n",
      " 2   Eviction Address           68581 non-null  object \n",
      " 3   Eviction Apartment Number  57116 non-null  object \n",
      " 4   Executed Date              68581 non-null  object \n",
      " 5   Marshal First Name         68581 non-null  object \n",
      " 6   Marshal Last Name          68581 non-null  object \n",
      " 7   Residential/Commercial     68581 non-null  object \n",
      " 8   BOROUGH                    68581 non-null  object \n",
      " 9   Eviction Postcode          68581 non-null  int64  \n",
      " 10  Ejectment                  68581 non-null  object \n",
      " 11  Eviction/Legal Possession  68581 non-null  object \n",
      " 12  Latitude                   61997 non-null  float64\n",
      " 13  Longitude                  61997 non-null  float64\n",
      " 14  Community Board            61997 non-null  float64\n",
      " 15  Council District           61997 non-null  float64\n",
      " 16  Census Tract               61997 non-null  float64\n",
      " 17  BIN                        61876 non-null  float64\n",
      " 18  BBL                        61876 non-null  float64\n",
      " 19  NTA                        61997 non-null  object \n",
      "dtypes: float64(7), int64(2), object(11)\n",
      "memory usage: 10.5+ MB\n"
     ]
    }
   ],
   "source": [
    "df.info()"
   ]
  },
  {
   "cell_type": "code",
   "execution_count": 6,
   "metadata": {},
   "outputs": [
    {
     "data": {
      "text/plain": [
       "Grossman       9644\n",
       "Daley          6824\n",
       "Rivera         6019\n",
       "Bia            5800\n",
       "Guida          5585\n",
       "Weinheim       5350\n",
       "McCoy          4095\n",
       "Barone         3810\n",
       "Essock, Jr.    2783\n",
       "Renzulli       2601\n",
       "Capuano        1927\n",
       "Chevlowe       1870\n",
       "Rose           1781\n",
       "Locascio       1486\n",
       "Essock         1417\n",
       "Pazant         1337\n",
       "Giachetta       846\n",
       "Villanueva      817\n",
       "Barbarovich     804\n",
       "Powell          757\n",
       "Schain          733\n",
       "Siracusa        551\n",
       "Blake           459\n",
       "Giglio          395\n",
       "Marchisotto     394\n",
       "Kemp            374\n",
       "Solimine        118\n",
       "Smith             4\n",
       "Name: Marshal Last Name, dtype: int64"
      ]
     },
     "execution_count": 6,
     "metadata": {},
     "output_type": "execute_result"
    }
   ],
   "source": [
    "df['Marshal Last Name'].value_counts()"
   ]
  },
  {
   "cell_type": "code",
   "execution_count": 7,
   "metadata": {},
   "outputs": [
    {
     "data": {
      "text/plain": [
       "BRONX            22511\n",
       "BROOKLYN         19627\n",
       "QUEENS           13601\n",
       "MANHATTAN        10514\n",
       "STATEN ISLAND     2328\n",
       "Name: BOROUGH, dtype: int64"
      ]
     },
     "execution_count": 7,
     "metadata": {},
     "output_type": "execute_result"
    }
   ],
   "source": [
    "df['BOROUGH'].value_counts()"
   ]
  },
  {
   "cell_type": "code",
   "execution_count": 13,
   "metadata": {},
   "outputs": [],
   "source": [
    "df['Executed Date'] = pd.to_datetime(df['Executed Date'])"
   ]
  },
  {
   "cell_type": "code",
   "execution_count": 14,
   "metadata": {},
   "outputs": [
    {
     "data": {
      "text/html": [
       "<div>\n",
       "<style scoped>\n",
       "    .dataframe tbody tr th:only-of-type {\n",
       "        vertical-align: middle;\n",
       "    }\n",
       "\n",
       "    .dataframe tbody tr th {\n",
       "        vertical-align: top;\n",
       "    }\n",
       "\n",
       "    .dataframe thead th {\n",
       "        text-align: right;\n",
       "    }\n",
       "</style>\n",
       "<table border=\"1\" class=\"dataframe\">\n",
       "  <thead>\n",
       "    <tr style=\"text-align: right;\">\n",
       "      <th></th>\n",
       "      <th>Court Index Number</th>\n",
       "      <th>Docket Number</th>\n",
       "      <th>Eviction Address</th>\n",
       "      <th>Eviction Apartment Number</th>\n",
       "      <th>Executed Date</th>\n",
       "      <th>Marshal First Name</th>\n",
       "      <th>Marshal Last Name</th>\n",
       "      <th>Residential/Commercial</th>\n",
       "      <th>BOROUGH</th>\n",
       "      <th>Eviction Postcode</th>\n",
       "      <th>...</th>\n",
       "      <th>Eviction/Legal Possession</th>\n",
       "      <th>Latitude</th>\n",
       "      <th>Longitude</th>\n",
       "      <th>Community Board</th>\n",
       "      <th>Council District</th>\n",
       "      <th>Census Tract</th>\n",
       "      <th>BIN</th>\n",
       "      <th>BBL</th>\n",
       "      <th>NTA</th>\n",
       "      <th>year</th>\n",
       "    </tr>\n",
       "  </thead>\n",
       "  <tbody>\n",
       "    <tr>\n",
       "      <th>0</th>\n",
       "      <td>55445/19</td>\n",
       "      <td>94816</td>\n",
       "      <td>640 WATKINS STREET</td>\n",
       "      <td>2ND FLOOR</td>\n",
       "      <td>2019-06-12</td>\n",
       "      <td>Justin</td>\n",
       "      <td>Grossman</td>\n",
       "      <td>Residential</td>\n",
       "      <td>BROOKLYN</td>\n",
       "      <td>11212</td>\n",
       "      <td>...</td>\n",
       "      <td>Possession</td>\n",
       "      <td>40.656310</td>\n",
       "      <td>-73.904448</td>\n",
       "      <td>16.0</td>\n",
       "      <td>42.0</td>\n",
       "      <td>922.0</td>\n",
       "      <td>3346153.0</td>\n",
       "      <td>3.036380e+09</td>\n",
       "      <td>Brownsville</td>\n",
       "      <td>2019</td>\n",
       "    </tr>\n",
       "    <tr>\n",
       "      <th>1</th>\n",
       "      <td>78203/16-2</td>\n",
       "      <td>201506</td>\n",
       "      <td>1365 ST NICHOLAS AVE</td>\n",
       "      <td>7R</td>\n",
       "      <td>2017-04-18</td>\n",
       "      <td>Richard</td>\n",
       "      <td>Capuano</td>\n",
       "      <td>Residential</td>\n",
       "      <td>MANHATTAN</td>\n",
       "      <td>10033</td>\n",
       "      <td>...</td>\n",
       "      <td>Possession</td>\n",
       "      <td>40.847780</td>\n",
       "      <td>-73.934871</td>\n",
       "      <td>12.0</td>\n",
       "      <td>10.0</td>\n",
       "      <td>263.0</td>\n",
       "      <td>1079920.0</td>\n",
       "      <td>1.021620e+09</td>\n",
       "      <td>Washington Heights South</td>\n",
       "      <td>2017</td>\n",
       "    </tr>\n",
       "    <tr>\n",
       "      <th>2</th>\n",
       "      <td>23951/19</td>\n",
       "      <td>360541</td>\n",
       "      <td>50 EAST 191ST STREET</td>\n",
       "      <td>3N</td>\n",
       "      <td>2022-04-06</td>\n",
       "      <td>Thomas</td>\n",
       "      <td>Bia</td>\n",
       "      <td>Residential</td>\n",
       "      <td>BRONX</td>\n",
       "      <td>10468</td>\n",
       "      <td>...</td>\n",
       "      <td>Possession</td>\n",
       "      <td>40.863974</td>\n",
       "      <td>-73.898210</td>\n",
       "      <td>7.0</td>\n",
       "      <td>14.0</td>\n",
       "      <td>401.0</td>\n",
       "      <td>2013932.0</td>\n",
       "      <td>2.031750e+09</td>\n",
       "      <td>Bedford Park-Fordham North</td>\n",
       "      <td>022</td>\n",
       "    </tr>\n",
       "    <tr>\n",
       "      <th>3</th>\n",
       "      <td>Q077113/16</td>\n",
       "      <td>380770</td>\n",
       "      <td>125 BEACH 17TH ST</td>\n",
       "      <td>7F</td>\n",
       "      <td>2017-06-23</td>\n",
       "      <td>Richard</td>\n",
       "      <td>McCoy</td>\n",
       "      <td>Residential</td>\n",
       "      <td>QUEENS</td>\n",
       "      <td>11691</td>\n",
       "      <td>...</td>\n",
       "      <td>Possession</td>\n",
       "      <td>40.594254</td>\n",
       "      <td>-73.751210</td>\n",
       "      <td>14.0</td>\n",
       "      <td>31.0</td>\n",
       "      <td>101001.0</td>\n",
       "      <td>4436178.0</td>\n",
       "      <td>4.156380e+09</td>\n",
       "      <td>Far Rockaway-Bayswater</td>\n",
       "      <td>2017</td>\n",
       "    </tr>\n",
       "    <tr>\n",
       "      <th>4</th>\n",
       "      <td>21109/17</td>\n",
       "      <td>11628</td>\n",
       "      <td>4110 MONTICELLO AVENUE</td>\n",
       "      <td>NaN</td>\n",
       "      <td>2017-08-18</td>\n",
       "      <td>Edward</td>\n",
       "      <td>Guida</td>\n",
       "      <td>Residential</td>\n",
       "      <td>BRONX</td>\n",
       "      <td>10466</td>\n",
       "      <td>...</td>\n",
       "      <td>Possession</td>\n",
       "      <td>40.894330</td>\n",
       "      <td>-73.839445</td>\n",
       "      <td>12.0</td>\n",
       "      <td>12.0</td>\n",
       "      <td>448.0</td>\n",
       "      <td>2069463.0</td>\n",
       "      <td>2.050280e+09</td>\n",
       "      <td>Woodlawn-Wakefield</td>\n",
       "      <td>2017</td>\n",
       "    </tr>\n",
       "    <tr>\n",
       "      <th>...</th>\n",
       "      <td>...</td>\n",
       "      <td>...</td>\n",
       "      <td>...</td>\n",
       "      <td>...</td>\n",
       "      <td>...</td>\n",
       "      <td>...</td>\n",
       "      <td>...</td>\n",
       "      <td>...</td>\n",
       "      <td>...</td>\n",
       "      <td>...</td>\n",
       "      <td>...</td>\n",
       "      <td>...</td>\n",
       "      <td>...</td>\n",
       "      <td>...</td>\n",
       "      <td>...</td>\n",
       "      <td>...</td>\n",
       "      <td>...</td>\n",
       "      <td>...</td>\n",
       "      <td>...</td>\n",
       "      <td>...</td>\n",
       "      <td>...</td>\n",
       "    </tr>\n",
       "    <tr>\n",
       "      <th>68576</th>\n",
       "      <td>K92852/18</td>\n",
       "      <td>95374</td>\n",
       "      <td>872 UTICA AVENUE</td>\n",
       "      <td>2</td>\n",
       "      <td>2019-07-17</td>\n",
       "      <td>Ileana</td>\n",
       "      <td>Rivera</td>\n",
       "      <td>Residential</td>\n",
       "      <td>BROOKLYN</td>\n",
       "      <td>11203</td>\n",
       "      <td>...</td>\n",
       "      <td>Possession</td>\n",
       "      <td>40.652118</td>\n",
       "      <td>-73.930435</td>\n",
       "      <td>17.0</td>\n",
       "      <td>41.0</td>\n",
       "      <td>868.0</td>\n",
       "      <td>3102091.0</td>\n",
       "      <td>3.046750e+09</td>\n",
       "      <td>Rugby-Remsen Village</td>\n",
       "      <td>2019</td>\n",
       "    </tr>\n",
       "    <tr>\n",
       "      <th>68577</th>\n",
       "      <td>Q077085/16</td>\n",
       "      <td>375371</td>\n",
       "      <td>82-15 BRITTON AVENUE</td>\n",
       "      <td>1G</td>\n",
       "      <td>2017-03-07</td>\n",
       "      <td>Richard</td>\n",
       "      <td>McCoy</td>\n",
       "      <td>Residential</td>\n",
       "      <td>QUEENS</td>\n",
       "      <td>11373</td>\n",
       "      <td>...</td>\n",
       "      <td>Possession</td>\n",
       "      <td>40.742961</td>\n",
       "      <td>-73.882513</td>\n",
       "      <td>4.0</td>\n",
       "      <td>25.0</td>\n",
       "      <td>26902.0</td>\n",
       "      <td>4037317.0</td>\n",
       "      <td>4.015090e+09</td>\n",
       "      <td>Elmhurst</td>\n",
       "      <td>017</td>\n",
       "    </tr>\n",
       "    <tr>\n",
       "      <th>68578</th>\n",
       "      <td>65419/17</td>\n",
       "      <td>477813</td>\n",
       "      <td>1695 TOPPING AVENUE</td>\n",
       "      <td>4-E</td>\n",
       "      <td>2018-03-13</td>\n",
       "      <td>Danny</td>\n",
       "      <td>Weinheim</td>\n",
       "      <td>Residential</td>\n",
       "      <td>BRONX</td>\n",
       "      <td>10457</td>\n",
       "      <td>...</td>\n",
       "      <td>Possession</td>\n",
       "      <td>40.844019</td>\n",
       "      <td>-73.905834</td>\n",
       "      <td>4.0</td>\n",
       "      <td>15.0</td>\n",
       "      <td>22902.0</td>\n",
       "      <td>2007353.0</td>\n",
       "      <td>2.027910e+09</td>\n",
       "      <td>Mount Hope</td>\n",
       "      <td>2018</td>\n",
       "    </tr>\n",
       "    <tr>\n",
       "      <th>68579</th>\n",
       "      <td>64442/17</td>\n",
       "      <td>3307</td>\n",
       "      <td>1933-35 DALY AVE.</td>\n",
       "      <td>6</td>\n",
       "      <td>2018-07-05</td>\n",
       "      <td>Vadim</td>\n",
       "      <td>Barbarovich</td>\n",
       "      <td>Residential</td>\n",
       "      <td>BRONX</td>\n",
       "      <td>10460</td>\n",
       "      <td>...</td>\n",
       "      <td>Possession</td>\n",
       "      <td>40.841312</td>\n",
       "      <td>-73.884211</td>\n",
       "      <td>6.0</td>\n",
       "      <td>17.0</td>\n",
       "      <td>359.0</td>\n",
       "      <td>2092173.0</td>\n",
       "      <td>2.029850e+09</td>\n",
       "      <td>East Tremont</td>\n",
       "      <td>018</td>\n",
       "    </tr>\n",
       "    <tr>\n",
       "      <th>68580</th>\n",
       "      <td>K94627/16</td>\n",
       "      <td>75345</td>\n",
       "      <td>116 VAN SICLEN AVENU</td>\n",
       "      <td>2R</td>\n",
       "      <td>2017-09-05</td>\n",
       "      <td>Ileana</td>\n",
       "      <td>Rivera</td>\n",
       "      <td>Residential</td>\n",
       "      <td>BROOKLYN</td>\n",
       "      <td>11207</td>\n",
       "      <td>...</td>\n",
       "      <td>Possession</td>\n",
       "      <td>40.677466</td>\n",
       "      <td>-73.891540</td>\n",
       "      <td>5.0</td>\n",
       "      <td>37.0</td>\n",
       "      <td>1198.0</td>\n",
       "      <td>3087755.0</td>\n",
       "      <td>3.039460e+09</td>\n",
       "      <td>East New York</td>\n",
       "      <td>017</td>\n",
       "    </tr>\n",
       "  </tbody>\n",
       "</table>\n",
       "<p>68581 rows × 21 columns</p>\n",
       "</div>"
      ],
      "text/plain": [
       "      Court Index Number  Docket Number         Eviction Address  \\\n",
       "0               55445/19           94816      640 WATKINS STREET   \n",
       "1             78203/16-2          201506    1365 ST NICHOLAS AVE   \n",
       "2               23951/19          360541    50 EAST 191ST STREET   \n",
       "3             Q077113/16          380770       125 BEACH 17TH ST   \n",
       "4               21109/17           11628  4110 MONTICELLO AVENUE   \n",
       "...                  ...             ...                     ...   \n",
       "68576          K92852/18           95374        872 UTICA AVENUE   \n",
       "68577         Q077085/16          375371    82-15 BRITTON AVENUE   \n",
       "68578           65419/17          477813     1695 TOPPING AVENUE   \n",
       "68579           64442/17            3307       1933-35 DALY AVE.   \n",
       "68580          K94627/16           75345    116 VAN SICLEN AVENU   \n",
       "\n",
       "      Eviction Apartment Number Executed Date Marshal First Name  \\\n",
       "0                     2ND FLOOR    2019-06-12             Justin   \n",
       "1                            7R    2017-04-18            Richard   \n",
       "2                            3N    2022-04-06             Thomas   \n",
       "3                            7F    2017-06-23            Richard   \n",
       "4                           NaN    2017-08-18             Edward   \n",
       "...                         ...           ...                ...   \n",
       "68576                         2    2019-07-17             Ileana   \n",
       "68577                        1G    2017-03-07            Richard   \n",
       "68578                       4-E    2018-03-13              Danny   \n",
       "68579                         6    2018-07-05              Vadim   \n",
       "68580                        2R    2017-09-05             Ileana   \n",
       "\n",
       "      Marshal Last Name Residential/Commercial    BOROUGH  Eviction Postcode  \\\n",
       "0              Grossman            Residential   BROOKLYN              11212   \n",
       "1               Capuano            Residential  MANHATTAN              10033   \n",
       "2                   Bia            Residential      BRONX              10468   \n",
       "3                 McCoy            Residential     QUEENS              11691   \n",
       "4                 Guida            Residential      BRONX              10466   \n",
       "...                 ...                    ...        ...                ...   \n",
       "68576            Rivera            Residential   BROOKLYN              11203   \n",
       "68577             McCoy            Residential     QUEENS              11373   \n",
       "68578          Weinheim            Residential      BRONX              10457   \n",
       "68579       Barbarovich            Residential      BRONX              10460   \n",
       "68580            Rivera            Residential   BROOKLYN              11207   \n",
       "\n",
       "       ... Eviction/Legal Possession   Latitude  Longitude  Community Board  \\\n",
       "0      ...                Possession  40.656310 -73.904448             16.0   \n",
       "1      ...                Possession  40.847780 -73.934871             12.0   \n",
       "2      ...                Possession  40.863974 -73.898210              7.0   \n",
       "3      ...                Possession  40.594254 -73.751210             14.0   \n",
       "4      ...                Possession  40.894330 -73.839445             12.0   \n",
       "...    ...                       ...        ...        ...              ...   \n",
       "68576  ...                Possession  40.652118 -73.930435             17.0   \n",
       "68577  ...                Possession  40.742961 -73.882513              4.0   \n",
       "68578  ...                Possession  40.844019 -73.905834              4.0   \n",
       "68579  ...                Possession  40.841312 -73.884211              6.0   \n",
       "68580  ...                Possession  40.677466 -73.891540              5.0   \n",
       "\n",
       "       Council District  Census Tract        BIN           BBL  \\\n",
       "0                  42.0         922.0  3346153.0  3.036380e+09   \n",
       "1                  10.0         263.0  1079920.0  1.021620e+09   \n",
       "2                  14.0         401.0  2013932.0  2.031750e+09   \n",
       "3                  31.0      101001.0  4436178.0  4.156380e+09   \n",
       "4                  12.0         448.0  2069463.0  2.050280e+09   \n",
       "...                 ...           ...        ...           ...   \n",
       "68576              41.0         868.0  3102091.0  3.046750e+09   \n",
       "68577              25.0       26902.0  4037317.0  4.015090e+09   \n",
       "68578              15.0       22902.0  2007353.0  2.027910e+09   \n",
       "68579              17.0         359.0  2092173.0  2.029850e+09   \n",
       "68580              37.0        1198.0  3087755.0  3.039460e+09   \n",
       "\n",
       "                              NTA  year  \n",
       "0                     Brownsville  2019  \n",
       "1        Washington Heights South  2017  \n",
       "2      Bedford Park-Fordham North   022  \n",
       "3          Far Rockaway-Bayswater  2017  \n",
       "4              Woodlawn-Wakefield  2017  \n",
       "...                           ...   ...  \n",
       "68576        Rugby-Remsen Village  2019  \n",
       "68577                    Elmhurst   017  \n",
       "68578                  Mount Hope  2018  \n",
       "68579                East Tremont   018  \n",
       "68580               East New York   017  \n",
       "\n",
       "[68581 rows x 21 columns]"
      ]
     },
     "execution_count": 14,
     "metadata": {},
     "output_type": "execute_result"
    }
   ],
   "source": [
    "df_2022 = df[df['Executed Date'] "
   ]
  },
  {
   "cell_type": "code",
   "execution_count": 18,
   "metadata": {},
   "outputs": [],
   "source": [
    "df['year'] = df['Executed Date'].dt.year\n",
    "df['month'] = df['Executed Date'].dt.month"
   ]
  },
  {
   "cell_type": "code",
   "execution_count": 20,
   "metadata": {},
   "outputs": [
    {
     "data": {
      "text/plain": [
       "1     8298\n",
       "3     6545\n",
       "2     6507\n",
       "5     6397\n",
       "6     5885\n",
       "4     5844\n",
       "8     5575\n",
       "7     5379\n",
       "10    5219\n",
       "9     4853\n",
       "11    4488\n",
       "12    3591\n",
       "Name: month, dtype: int64"
      ]
     },
     "execution_count": 20,
     "metadata": {},
     "output_type": "execute_result"
    }
   ],
   "source": [
    "df['month'].value_counts()"
   ]
  },
  {
   "cell_type": "code",
   "execution_count": 21,
   "metadata": {},
   "outputs": [],
   "source": [
    "df_2022 = df[df['year'] == 2022]"
   ]
  },
  {
   "cell_type": "code",
   "execution_count": 32,
   "metadata": {},
   "outputs": [
    {
     "data": {
      "image/png": "[encoded data removed]",
      "text/plain": [
       "<Figure size 720x360 with 1 Axes>"
      ]
     },
     "metadata": {
      "needs_background": "light"
     },
     "output_type": "display_data"
    }
   ],
   "source": [
    "fig, ax = plt.subplots(figsize=(10, 5)) \n",
    "\n",
    "ax = df_2022['Marshal Last Name'].value_counts().plot(    \n",
    "    title='2022 Marshals Eviction Numbers',\n",
    "    xlabel='Marshals',\n",
    "    ylabel='Number of Evictions',\n",
    "    kind='bar')"
   ]
  },
  {
   "cell_type": "code",
   "execution_count": 34,
   "metadata": {},
   "outputs": [],
   "source": [
    "df_2022_daley = df_2022[df_2022['Marshal Last Name'] == 'Daley']"
   ]
  },
  {
   "cell_type": "code",
   "execution_count": 112,
   "metadata": {},
   "outputs": [
    {
     "data": {
      "text/plain": [
       "BROOKLYN         129\n",
       "QUEENS            92\n",
       "BRONX             56\n",
       "MANHATTAN         25\n",
       "STATEN ISLAND      6\n",
       "Name: BOROUGH, dtype: int64"
      ]
     },
     "execution_count": 112,
     "metadata": {},
     "output_type": "execute_result"
    }
   ],
   "source": [
    "df_2022_daley['BOROUGH'].value_counts()"
   ]
  },
  {
   "cell_type": "code",
   "execution_count": 90,
   "metadata": {},
   "outputs": [
    {
     "data": {
      "text/plain": [
       "16      2\n",
       "18     10\n",
       "19     71\n",
       "20     81\n",
       "21    130\n",
       "22     14\n",
       "Name: Court Index Number, dtype: int64"
      ]
     },
     "execution_count": 90,
     "metadata": {},
     "output_type": "execute_result"
    }
   ],
   "source": [
    "df_2022_daley['Court Index Number'].str[-2:].value_counts().sort_index()"
   ]
  },
  {
   "cell_type": "code",
   "execution_count": 45,
   "metadata": {},
   "outputs": [
    {
     "data": {
      "text/plain": [
       "<AxesSubplot:>"
      ]
     },
     "execution_count": 45,
     "metadata": {},
     "output_type": "execute_result"
    },
    {
     "data": {
      "image/png": "[encoded data removed]",
      "text/plain": [
       "<Figure size 432x288 with 1 Axes>"
      ]
     },
     "metadata": {
      "needs_background": "light"
     },
     "output_type": "display_data"
    }
   ],
   "source": [
    "df_2022_daley['Court Index Number'].str[-2:].value_counts().sort_index().plot(kind='bar')"
   ]
  },
  {
   "cell_type": "code",
   "execution_count": 48,
   "metadata": {},
   "outputs": [],
   "source": [
    "df_2022_guida = df_2022[df_2022['Marshal Last Name'] == 'Guida']"
   ]
  },
  {
   "cell_type": "code",
   "execution_count": 89,
   "metadata": {},
   "outputs": [
    {
     "data": {
      "text/plain": [
       "16     1\n",
       "18     5\n",
       "19    51\n",
       "20    46\n",
       "21    49\n",
       "22     3\n",
       "Name: Court Index Number, dtype: int64"
      ]
     },
     "execution_count": 89,
     "metadata": {},
     "output_type": "execute_result"
    }
   ],
   "source": [
    "df_2022_guida['Court Index Number'].str[-2:].value_counts().sort_index()"
   ]
  },
  {
   "cell_type": "code",
   "execution_count": 49,
   "metadata": {},
   "outputs": [
    {
     "data": {
      "text/plain": [
       "<AxesSubplot:>"
      ]
     },
     "execution_count": 49,
     "metadata": {},
     "output_type": "execute_result"
    },
    {
     "data": {
      "image/png": "[encoded data removed]",
      "text/plain": [
       "<Figure size 432x288 with 1 Axes>"
      ]
     },
     "metadata": {
      "needs_background": "light"
     },
     "output_type": "display_data"
    }
   ],
   "source": [
    "df_2022_guida['Court Index Number'].str[-2:].value_counts().sort_index().plot(kind='bar')"
   ]
  },
  {
   "cell_type": "code",
   "execution_count": 50,
   "metadata": {},
   "outputs": [],
   "source": [
    "df_2022_grossman = df_2022[df_2022['Marshal Last Name'] == 'Grossman']"
   ]
  },
  {
   "cell_type": "code",
   "execution_count": 51,
   "metadata": {},
   "outputs": [
    {
     "data": {
      "text/html": [
       "<div>\n",
       "<style scoped>\n",
       "    .dataframe tbody tr th:only-of-type {\n",
       "        vertical-align: middle;\n",
       "    }\n",
       "\n",
       "    .dataframe tbody tr th {\n",
       "        vertical-align: top;\n",
       "    }\n",
       "\n",
       "    .dataframe thead th {\n",
       "        text-align: right;\n",
       "    }\n",
       "</style>\n",
       "<table border=\"1\" class=\"dataframe\">\n",
       "  <thead>\n",
       "    <tr style=\"text-align: right;\">\n",
       "      <th></th>\n",
       "      <th>Court Index Number</th>\n",
       "      <th>Docket Number</th>\n",
       "      <th>Eviction Address</th>\n",
       "      <th>Eviction Apartment Number</th>\n",
       "      <th>Executed Date</th>\n",
       "      <th>Marshal First Name</th>\n",
       "      <th>Marshal Last Name</th>\n",
       "      <th>Residential/Commercial</th>\n",
       "      <th>BOROUGH</th>\n",
       "      <th>Eviction Postcode</th>\n",
       "      <th>...</th>\n",
       "      <th>Latitude</th>\n",
       "      <th>Longitude</th>\n",
       "      <th>Community Board</th>\n",
       "      <th>Council District</th>\n",
       "      <th>Census Tract</th>\n",
       "      <th>BIN</th>\n",
       "      <th>BBL</th>\n",
       "      <th>NTA</th>\n",
       "      <th>year</th>\n",
       "      <th>month</th>\n",
       "    </tr>\n",
       "  </thead>\n",
       "  <tbody>\n",
       "    <tr>\n",
       "      <th>127</th>\n",
       "      <td>58350/20</td>\n",
       "      <td>108282</td>\n",
       "      <td>117-16 205TH STREET</td>\n",
       "      <td>ENTIRE HOUSE</td>\n",
       "      <td>2022-07-07</td>\n",
       "      <td>Justin</td>\n",
       "      <td>Grossman</td>\n",
       "      <td>Residential</td>\n",
       "      <td>QUEENS</td>\n",
       "      <td>11412</td>\n",
       "      <td>...</td>\n",
       "      <td>40.695501</td>\n",
       "      <td>-73.747331</td>\n",
       "      <td>12.0</td>\n",
       "      <td>27.0</td>\n",
       "      <td>384.0</td>\n",
       "      <td>4272220.0</td>\n",
       "      <td>4.126340e+09</td>\n",
       "      <td>St. Albans</td>\n",
       "      <td>2022</td>\n",
       "      <td>7</td>\n",
       "    </tr>\n",
       "    <tr>\n",
       "      <th>230</th>\n",
       "      <td>304416/21</td>\n",
       "      <td>108242</td>\n",
       "      <td>92-22 77TH STREET</td>\n",
       "      <td>ENTIRE PREMISES</td>\n",
       "      <td>2022-07-01</td>\n",
       "      <td>Justin</td>\n",
       "      <td>Grossman</td>\n",
       "      <td>Residential</td>\n",
       "      <td>QUEENS</td>\n",
       "      <td>11421</td>\n",
       "      <td>...</td>\n",
       "      <td>40.685036</td>\n",
       "      <td>-73.863220</td>\n",
       "      <td>9.0</td>\n",
       "      <td>30.0</td>\n",
       "      <td>6.0</td>\n",
       "      <td>4184728.0</td>\n",
       "      <td>4.089470e+09</td>\n",
       "      <td>Woodhaven</td>\n",
       "      <td>2022</td>\n",
       "      <td>7</td>\n",
       "    </tr>\n",
       "    <tr>\n",
       "      <th>411</th>\n",
       "      <td>69415/19</td>\n",
       "      <td>102241</td>\n",
       "      <td>239 WEST 116TH   STR EET</td>\n",
       "      <td>STORE 1</td>\n",
       "      <td>2022-04-13</td>\n",
       "      <td>Justin</td>\n",
       "      <td>Grossman</td>\n",
       "      <td>Commercial</td>\n",
       "      <td>MANHATTAN</td>\n",
       "      <td>10026</td>\n",
       "      <td>...</td>\n",
       "      <td>40.803906</td>\n",
       "      <td>-73.954127</td>\n",
       "      <td>10.0</td>\n",
       "      <td>9.0</td>\n",
       "      <td>218.0</td>\n",
       "      <td>1058371.0</td>\n",
       "      <td>1.019220e+09</td>\n",
       "      <td>Central Harlem South</td>\n",
       "      <td>2022</td>\n",
       "      <td>4</td>\n",
       "    </tr>\n",
       "    <tr>\n",
       "      <th>514</th>\n",
       "      <td>303354/21</td>\n",
       "      <td>107507</td>\n",
       "      <td>2141 HOLLAND AVENUE</td>\n",
       "      <td>0B</td>\n",
       "      <td>2022-03-24</td>\n",
       "      <td>Justin</td>\n",
       "      <td>Grossman</td>\n",
       "      <td>Residential</td>\n",
       "      <td>BRONX</td>\n",
       "      <td>10462</td>\n",
       "      <td>...</td>\n",
       "      <td>40.854793</td>\n",
       "      <td>-73.865752</td>\n",
       "      <td>11.0</td>\n",
       "      <td>13.0</td>\n",
       "      <td>22403.0</td>\n",
       "      <td>2049410.0</td>\n",
       "      <td>2.043190e+09</td>\n",
       "      <td>Pelham Parkway</td>\n",
       "      <td>2022</td>\n",
       "      <td>3</td>\n",
       "    </tr>\n",
       "    <tr>\n",
       "      <th>637</th>\n",
       "      <td>307439/21</td>\n",
       "      <td>108442</td>\n",
       "      <td>1560 CONEY ISLAND AV ENUE</td>\n",
       "      <td>GRND FL STORE</td>\n",
       "      <td>2022-06-30</td>\n",
       "      <td>Justin</td>\n",
       "      <td>Grossman</td>\n",
       "      <td>Commercial</td>\n",
       "      <td>BROOKLYN</td>\n",
       "      <td>11230</td>\n",
       "      <td>...</td>\n",
       "      <td>40.619347</td>\n",
       "      <td>-73.964156</td>\n",
       "      <td>12.0</td>\n",
       "      <td>44.0</td>\n",
       "      <td>454.0</td>\n",
       "      <td>3171992.0</td>\n",
       "      <td>3.065460e+09</td>\n",
       "      <td>Ocean Parkway South</td>\n",
       "      <td>2022</td>\n",
       "      <td>6</td>\n",
       "    </tr>\n",
       "    <tr>\n",
       "      <th>...</th>\n",
       "      <td>...</td>\n",
       "      <td>...</td>\n",
       "      <td>...</td>\n",
       "      <td>...</td>\n",
       "      <td>...</td>\n",
       "      <td>...</td>\n",
       "      <td>...</td>\n",
       "      <td>...</td>\n",
       "      <td>...</td>\n",
       "      <td>...</td>\n",
       "      <td>...</td>\n",
       "      <td>...</td>\n",
       "      <td>...</td>\n",
       "      <td>...</td>\n",
       "      <td>...</td>\n",
       "      <td>...</td>\n",
       "      <td>...</td>\n",
       "      <td>...</td>\n",
       "      <td>...</td>\n",
       "      <td>...</td>\n",
       "      <td>...</td>\n",
       "    </tr>\n",
       "    <tr>\n",
       "      <th>68159</th>\n",
       "      <td>300121/20</td>\n",
       "      <td>107474</td>\n",
       "      <td>629 CORTELYOU ROAD</td>\n",
       "      <td>1 (SIDE APARTMENT)</td>\n",
       "      <td>2022-02-18</td>\n",
       "      <td>Justin</td>\n",
       "      <td>Grossman</td>\n",
       "      <td>Residential</td>\n",
       "      <td>BROOKLYN</td>\n",
       "      <td>11218</td>\n",
       "      <td>...</td>\n",
       "      <td>40.638604</td>\n",
       "      <td>-73.972533</td>\n",
       "      <td>12.0</td>\n",
       "      <td>39.0</td>\n",
       "      <td>490.0</td>\n",
       "      <td>3126213.0</td>\n",
       "      <td>3.053750e+09</td>\n",
       "      <td>Kensington-Ocean Parkway</td>\n",
       "      <td>2022</td>\n",
       "      <td>2</td>\n",
       "    </tr>\n",
       "    <tr>\n",
       "      <th>68297</th>\n",
       "      <td>72011/19</td>\n",
       "      <td>103092</td>\n",
       "      <td>134 WEST 37TH STREET</td>\n",
       "      <td>STORE A,WHICH IS KNO</td>\n",
       "      <td>2022-02-08</td>\n",
       "      <td>Justin</td>\n",
       "      <td>Grossman</td>\n",
       "      <td>Commercial</td>\n",
       "      <td>MANHATTAN</td>\n",
       "      <td>10018</td>\n",
       "      <td>...</td>\n",
       "      <td>40.752377</td>\n",
       "      <td>-73.988028</td>\n",
       "      <td>5.0</td>\n",
       "      <td>3.0</td>\n",
       "      <td>109.0</td>\n",
       "      <td>1015247.0</td>\n",
       "      <td>1.008120e+09</td>\n",
       "      <td>Midtown-Midtown South</td>\n",
       "      <td>2022</td>\n",
       "      <td>2</td>\n",
       "    </tr>\n",
       "    <tr>\n",
       "      <th>68356</th>\n",
       "      <td>52893/19B</td>\n",
       "      <td>107721</td>\n",
       "      <td>49 GIACOMO LANE</td>\n",
       "      <td>-</td>\n",
       "      <td>2022-06-01</td>\n",
       "      <td>Justin</td>\n",
       "      <td>Grossman</td>\n",
       "      <td>Residential</td>\n",
       "      <td>STATEN ISLAND</td>\n",
       "      <td>10310</td>\n",
       "      <td>...</td>\n",
       "      <td>40.633115</td>\n",
       "      <td>-74.117705</td>\n",
       "      <td>1.0</td>\n",
       "      <td>49.0</td>\n",
       "      <td>13302.0</td>\n",
       "      <td>5146782.0</td>\n",
       "      <td>5.002070e+09</td>\n",
       "      <td>West New Brighton-New Brighton-St. George</td>\n",
       "      <td>2022</td>\n",
       "      <td>6</td>\n",
       "    </tr>\n",
       "    <tr>\n",
       "      <th>68404</th>\n",
       "      <td>307243/21</td>\n",
       "      <td>107942</td>\n",
       "      <td>1314 EASTERN PARKWAY</td>\n",
       "      <td>D7</td>\n",
       "      <td>2022-05-04</td>\n",
       "      <td>Justin</td>\n",
       "      <td>Grossman</td>\n",
       "      <td>Residential</td>\n",
       "      <td>BROOKLYN</td>\n",
       "      <td>11233</td>\n",
       "      <td>...</td>\n",
       "      <td>40.668445</td>\n",
       "      <td>-73.924574</td>\n",
       "      <td>8.0</td>\n",
       "      <td>41.0</td>\n",
       "      <td>359.0</td>\n",
       "      <td>3037619.0</td>\n",
       "      <td>3.013990e+09</td>\n",
       "      <td>Crown Heights North</td>\n",
       "      <td>2022</td>\n",
       "      <td>5</td>\n",
       "    </tr>\n",
       "    <tr>\n",
       "      <th>68512</th>\n",
       "      <td>75011/19B</td>\n",
       "      <td>102898</td>\n",
       "      <td>712 FENIMORE STREET</td>\n",
       "      <td>UNIT-3</td>\n",
       "      <td>2022-06-13</td>\n",
       "      <td>Justin</td>\n",
       "      <td>Grossman</td>\n",
       "      <td>Residential</td>\n",
       "      <td>BROOKLYN</td>\n",
       "      <td>11203</td>\n",
       "      <td>...</td>\n",
       "      <td>40.659415</td>\n",
       "      <td>-73.938699</td>\n",
       "      <td>9.0</td>\n",
       "      <td>41.0</td>\n",
       "      <td>87401.0</td>\n",
       "      <td>3107343.0</td>\n",
       "      <td>3.048180e+09</td>\n",
       "      <td>Prospect Lefferts Gardens-Wingate</td>\n",
       "      <td>2022</td>\n",
       "      <td>6</td>\n",
       "    </tr>\n",
       "  </tbody>\n",
       "</table>\n",
       "<p>421 rows × 22 columns</p>\n",
       "</div>"
      ],
      "text/plain": [
       "      Court Index Number  Docket Number            Eviction Address  \\\n",
       "127             58350/20          108282        117-16 205TH STREET   \n",
       "230            304416/21          108242          92-22 77TH STREET   \n",
       "411             69415/19          102241   239 WEST 116TH   STR EET   \n",
       "514            303354/21          107507        2141 HOLLAND AVENUE   \n",
       "637            307439/21          108442  1560 CONEY ISLAND AV ENUE   \n",
       "...                  ...             ...                        ...   \n",
       "68159          300121/20          107474         629 CORTELYOU ROAD   \n",
       "68297           72011/19          103092       134 WEST 37TH STREET   \n",
       "68356          52893/19B          107721            49 GIACOMO LANE   \n",
       "68404          307243/21          107942       1314 EASTERN PARKWAY   \n",
       "68512          75011/19B          102898        712 FENIMORE STREET   \n",
       "\n",
       "      Eviction Apartment Number Executed Date Marshal First Name  \\\n",
       "127                ENTIRE HOUSE    2022-07-07             Justin   \n",
       "230             ENTIRE PREMISES    2022-07-01             Justin   \n",
       "411                     STORE 1    2022-04-13             Justin   \n",
       "514                          0B    2022-03-24             Justin   \n",
       "637               GRND FL STORE    2022-06-30             Justin   \n",
       "...                         ...           ...                ...   \n",
       "68159        1 (SIDE APARTMENT)    2022-02-18             Justin   \n",
       "68297      STORE A,WHICH IS KNO    2022-02-08             Justin   \n",
       "68356                         -    2022-06-01             Justin   \n",
       "68404                        D7    2022-05-04             Justin   \n",
       "68512                    UNIT-3    2022-06-13             Justin   \n",
       "\n",
       "      Marshal Last Name Residential/Commercial        BOROUGH  \\\n",
       "127            Grossman            Residential         QUEENS   \n",
       "230            Grossman            Residential         QUEENS   \n",
       "411            Grossman             Commercial      MANHATTAN   \n",
       "514            Grossman            Residential          BRONX   \n",
       "637            Grossman             Commercial       BROOKLYN   \n",
       "...                 ...                    ...            ...   \n",
       "68159          Grossman            Residential       BROOKLYN   \n",
       "68297          Grossman             Commercial      MANHATTAN   \n",
       "68356          Grossman            Residential  STATEN ISLAND   \n",
       "68404          Grossman            Residential       BROOKLYN   \n",
       "68512          Grossman            Residential       BROOKLYN   \n",
       "\n",
       "       Eviction Postcode  ...   Latitude  Longitude  Community Board  \\\n",
       "127                11412  ...  40.695501 -73.747331             12.0   \n",
       "230                11421  ...  40.685036 -73.863220              9.0   \n",
       "411                10026  ...  40.803906 -73.954127             10.0   \n",
       "514                10462  ...  40.854793 -73.865752             11.0   \n",
       "637                11230  ...  40.619347 -73.964156             12.0   \n",
       "...                  ...  ...        ...        ...              ...   \n",
       "68159              11218  ...  40.638604 -73.972533             12.0   \n",
       "68297              10018  ...  40.752377 -73.988028              5.0   \n",
       "68356              10310  ...  40.633115 -74.117705              1.0   \n",
       "68404              11233  ...  40.668445 -73.924574              8.0   \n",
       "68512              11203  ...  40.659415 -73.938699              9.0   \n",
       "\n",
       "       Council District  Census Tract        BIN           BBL  \\\n",
       "127                27.0         384.0  4272220.0  4.126340e+09   \n",
       "230                30.0           6.0  4184728.0  4.089470e+09   \n",
       "411                 9.0         218.0  1058371.0  1.019220e+09   \n",
       "514                13.0       22403.0  2049410.0  2.043190e+09   \n",
       "637                44.0         454.0  3171992.0  3.065460e+09   \n",
       "...                 ...           ...        ...           ...   \n",
       "68159              39.0         490.0  3126213.0  3.053750e+09   \n",
       "68297               3.0         109.0  1015247.0  1.008120e+09   \n",
       "68356              49.0       13302.0  5146782.0  5.002070e+09   \n",
       "68404              41.0         359.0  3037619.0  3.013990e+09   \n",
       "68512              41.0       87401.0  3107343.0  3.048180e+09   \n",
       "\n",
       "                                             NTA  year month  \n",
       "127                                   St. Albans  2022     7  \n",
       "230                                    Woodhaven  2022     7  \n",
       "411                         Central Harlem South  2022     4  \n",
       "514                               Pelham Parkway  2022     3  \n",
       "637                          Ocean Parkway South  2022     6  \n",
       "...                                          ...   ...   ...  \n",
       "68159                   Kensington-Ocean Parkway  2022     2  \n",
       "68297                      Midtown-Midtown South  2022     2  \n",
       "68356  West New Brighton-New Brighton-St. George  2022     6  \n",
       "68404                        Crown Heights North  2022     5  \n",
       "68512          Prospect Lefferts Gardens-Wingate  2022     6  \n",
       "\n",
       "[421 rows x 22 columns]"
      ]
     },
     "execution_count": 51,
     "metadata": {},
     "output_type": "execute_result"
    }
   ],
   "source": [
    "df_2022_grossman"
   ]
  },
  {
   "cell_type": "code",
   "execution_count": 54,
   "metadata": {},
   "outputs": [
    {
     "name": "stderr",
     "output_type": "stream",
     "text": [
      "C:\\Users\\booos\\anaconda3\\envs\\learn-env\\lib\\site-packages\\pandas\\core\\frame.py:3065: SettingWithCopyWarning: \n",
      "A value is trying to be set on a copy of a slice from a DataFrame.\n",
      "Try using .loc[row_indexer,col_indexer] = value instead\n",
      "\n",
      "See the caveats in the documentation: https://pandas.pydata.org/pandas-docs/stable/user_guide/indexing.html#returning-a-view-versus-a-copy\n",
      "  self[k1] = value[k2]\n"
     ]
    }
   ],
   "source": [
    "df_2022_grossman[['Court Index Number','court_index_year']] = df_2022_grossman['Court Index Number'].str.split('/',1,expand=True)"
   ]
  },
  {
   "cell_type": "code",
   "execution_count": 69,
   "metadata": {},
   "outputs": [
    {
     "data": {
      "text/plain": [
       "127       20\n",
       "230       21\n",
       "411       19\n",
       "514       21\n",
       "637       21\n",
       "        ... \n",
       "68159     20\n",
       "68297     19\n",
       "68356    19B\n",
       "68404     21\n",
       "68512    19B\n",
       "Name: court_index_year, Length: 421, dtype: object"
      ]
     },
     "execution_count": 69,
     "metadata": {},
     "output_type": "execute_result"
    }
   ],
   "source": [
    "df_2022_grossman['court_index_year']"
   ]
  },
  {
   "cell_type": "code",
   "execution_count": 88,
   "metadata": {},
   "outputs": [
    {
     "data": {
      "text/plain": [
       "21      130\n",
       "20      105\n",
       "19       76\n",
       "22       30\n",
       "19B      17\n",
       "19A      17\n",
       "20B       9\n",
       "20A       9\n",
       "19Q       6\n",
       "18        6\n",
       "21B       2\n",
       "19NY      2\n",
       "21A       2\n",
       "19K       2\n",
       "15        1\n",
       "20BX      1\n",
       "18NY      1\n",
       "20C       1\n",
       "17        1\n",
       "19C       1\n",
       "19R       1\n",
       "18BX      1\n",
       "Name: court_index_year, dtype: int64"
      ]
     },
     "execution_count": 88,
     "metadata": {},
     "output_type": "execute_result"
    }
   ],
   "source": [
    "df_2022_grossman['court_index_year_split'] = df_2022_grossman['court_index_year'] "
   ]
  },
  {
   "cell_type": "code",
   "execution_count": 91,
   "metadata": {},
   "outputs": [
    {
     "data": {
      "text/plain": [
       "BROOKLYN         696\n",
       "QUEENS           386\n",
       "BRONX            342\n",
       "MANHATTAN        265\n",
       "STATEN ISLAND    120\n",
       "Name: BOROUGH, dtype: int64"
      ]
     },
     "execution_count": 91,
     "metadata": {},
     "output_type": "execute_result"
    }
   ],
   "source": [
    "df_2022['BOROUGH'].value_counts()"
   ]
  },
  {
   "cell_type": "code",
   "execution_count": 97,
   "metadata": {},
   "outputs": [
    {
     "data": {
      "text/plain": [
       "<AxesSubplot:>"
      ]
     },
     "execution_count": 97,
     "metadata": {},
     "output_type": "execute_result"
    },
    {
     "data": {
      "image/png": "[encoded data removed]",
      "text/plain": [
       "<Figure size 432x288 with 1 Axes>"
      ]
     },
     "metadata": {
      "needs_background": "light"
     },
     "output_type": "display_data"
    }
   ],
   "source": [
    "df_2022['month'].value_counts().sort_index().plot(kind='bar')"
   ]
  },
  {
   "cell_type": "code",
   "execution_count": 98,
   "metadata": {},
   "outputs": [
    {
     "data": {
      "text/plain": [
       "1    130\n",
       "2    192\n",
       "3    293\n",
       "4    294\n",
       "5    388\n",
       "6    405\n",
       "7    107\n",
       "Name: month, dtype: int64"
      ]
     },
     "execution_count": 98,
     "metadata": {},
     "output_type": "execute_result"
    }
   ],
   "source": [
    "df_2022['month'].value_counts().sort_index()"
   ]
  },
  {
   "cell_type": "code",
   "execution_count": 101,
   "metadata": {},
   "outputs": [
    {
     "data": {
      "text/plain": [
       "<AxesSubplot:>"
      ]
     },
     "execution_count": 101,
     "metadata": {},
     "output_type": "execute_result"
    },
    {
     "data": {
      "image/png": "[encoded data removed]",
      "text/plain": [
       "<Figure size 432x288 with 1 Axes>"
      ]
     },
     "metadata": {
      "needs_background": "light"
     },
     "output_type": "display_data"
    }
   ],
   "source": [
    "df_2022['Eviction Postcode'].value_counts().nlargest(n=10).plot(kind='bar')"
   ]
  },
  {
   "cell_type": "code",
   "execution_count": 102,
   "metadata": {},
   "outputs": [
    {
     "data": {
      "text/plain": [
       "11212    62\n",
       "11226    48\n",
       "11207    39\n",
       "11233    37\n",
       "11213    36\n",
       "10458    36\n",
       "11368    35\n",
       "11236    34\n",
       "11203    32\n",
       "11221    30\n",
       "Name: Eviction Postcode, dtype: int64"
      ]
     },
     "execution_count": 102,
     "metadata": {},
     "output_type": "execute_result"
    }
   ],
   "source": [
    "df_2022['Eviction Postcode'].value_counts().nlargest(n=10)"
   ]
  },
  {
   "cell_type": "code",
   "execution_count": 105,
   "metadata": {},
   "outputs": [
    {
     "data": {
      "text/plain": [
       "False    1423\n",
       "True      386\n",
       "Name: BOROUGH, dtype: int64"
      ]
     },
     "execution_count": 105,
     "metadata": {},
     "output_type": "execute_result"
    }
   ],
   "source": [
    "(df_2022['BOROUGH'] == 'QUEENS').value_counts()"
   ]
  },
  {
   "cell_type": "code",
   "execution_count": 107,
   "metadata": {},
   "outputs": [
    {
     "data": {
      "text/plain": [
       "<AxesSubplot:>"
      ]
     },
     "execution_count": 107,
     "metadata": {},
     "output_type": "execute_result"
    },
    {
     "data": {
      "image/png": "[encoded data removed]",
      "text/plain": [
       "<Figure size 432x288 with 1 Axes>"
      ]
     },
     "metadata": {
      "needs_background": "light"
     },
     "output_type": "display_data"
    }
   ],
   "source": [
    "df_2022['Court Index Number'].str[-2:].value_counts().nlargest(n=3).sort_index().plot(kind='bar')"
   ]
  },
  {
   "cell_type": "code",
   "execution_count": 108,
   "metadata": {},
   "outputs": [
    {
     "data": {
      "text/plain": [
       "19    427\n",
       "20    492\n",
       "21    594\n",
       "Name: Court Index Number, dtype: int64"
      ]
     },
     "execution_count": 108,
     "metadata": {},
     "output_type": "execute_result"
    }
   ],
   "source": [
    "df_2022['Court Index Number'].str[-2:].value_counts().nlargest(n=3).sort_index()"
   ]
  },
  {
   "cell_type": "code",
   "execution_count": 109,
   "metadata": {},
   "outputs": [
    {
     "data": {
      "text/plain": [
       "Residential    1404\n",
       "Commercial      405\n",
       "Name: Residential/Commercial, dtype: int64"
      ]
     },
     "execution_count": 109,
     "metadata": {},
     "output_type": "execute_result"
    }
   ],
   "source": [
    "df_2022['Residential/Commercial'].value_counts()"
   ]
  },
  {
   "cell_type": "code",
   "execution_count": 110,
   "metadata": {},
   "outputs": [
    {
     "data": {
      "text/plain": [
       "Residential    326\n",
       "Commercial      95\n",
       "Name: Residential/Commercial, dtype: int64"
      ]
     },
     "execution_count": 110,
     "metadata": {},
     "output_type": "execute_result"
    }
   ],
   "source": [
    "df_2022_grossman['Residential/Commercial'].value_counts()"
   ]
  },
  {
   "cell_type": "code",
   "execution_count": 111,
   "metadata": {},
   "outputs": [
    {
     "data": {
      "text/plain": [
       "BROOKLYN         182\n",
       "BRONX             85\n",
       "QUEENS            76\n",
       "MANHATTAN         63\n",
       "STATEN ISLAND     15\n",
       "Name: BOROUGH, dtype: int64"
      ]
     },
     "execution_count": 111,
     "metadata": {},
     "output_type": "execute_result"
    }
   ],
   "source": [
    "df_2022_grossman['BOROUGH'].value_counts()"
   ]
  },
  {
   "cell_type": "code",
   "execution_count": 115,
   "metadata": {},
   "outputs": [
    {
     "data": {
      "text/plain": [
       "<AxesSubplot:>"
      ]
     },
     "execution_count": 115,
     "metadata": {},
     "output_type": "execute_result"
    },
    {
     "data": {
      "image/png": "[encoded data removed]",
      "text/plain": [
       "<Figure size 432x288 with 1 Axes>"
      ]
     },
     "metadata": {
      "needs_background": "light"
     },
     "output_type": "display_data"
    }
   ],
   "source": [
    "df['year'].value_counts().sort_index().plot(kind='bar')"
   ]
  },
  {
   "cell_type": "code",
   "execution_count": 116,
   "metadata": {},
   "outputs": [
    {
     "data": {
      "text/plain": [
       "2017    22525\n",
       "2018    21830\n",
       "2019    18723\n",
       "2020     3426\n",
       "2021      268\n",
       "2022     1809\n",
       "Name: year, dtype: int64"
      ]
     },
     "execution_count": 116,
     "metadata": {},
     "output_type": "execute_result"
    }
   ],
   "source": [
    "df['year'].value_counts().sort_index()"
   ]
  },
  {
   "cell_type": "code",
   "execution_count": null,
   "metadata": {},
   "outputs": [],
   "source": []
  }
 ],
 "metadata": {
  "kernelspec": {
   "display_name": "Python 3",
   "language": "python",
   "name": "python3"
  },
  "language_info": {
   "codemirror_mode": {
    "name": "ipython",
    "version": 3
   },
   "file_extension": ".py",
   "mimetype": "text/x-python",
   "name": "python",
   "nbconvert_exporter": "python",
   "pygments_lexer": "ipython3",
   "version": "3.8.5"
  }
 },
 "nbformat": 4,
 "nbformat_minor": 4
}
